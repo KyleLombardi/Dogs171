{
 "cells": [
  {
   "cell_type": "markdown",
   "id": "c480d74a-d567-46ac-812c-a790df98caa7",
   "metadata": {},
   "source": [
    "## Feed-Forward Neural Network"
   ]
  },
  {
   "cell_type": "code",
   "execution_count": 102,
   "id": "f7599a31-d302-46c6-a558-35b7d3a2ee12",
   "metadata": {},
   "outputs": [],
   "source": [
    "import pandas as pd\n",
    "import os\n",
    "import numpy as np\n",
    "import matplotlib.pyplot as plt \n",
    "import seaborn as sns"
   ]
  },
  {
   "cell_type": "code",
   "execution_count": 103,
   "id": "a3839974-e82f-43f6-9445-7da6e263123e",
   "metadata": {},
   "outputs": [
    {
     "name": "stdout",
     "output_type": "stream",
     "text": [
      "Requirement already satisfied: scikeras in c:\\users\\kirin\\miniconda3\\lib\\site-packages (0.12.0)\n",
      "Requirement already satisfied: keras in c:\\users\\kirin\\miniconda3\\lib\\site-packages (2.15.0)\n",
      "Requirement already satisfied: packaging>=0.21 in c:\\users\\kirin\\miniconda3\\lib\\site-packages (from scikeras) (23.1)\n",
      "Requirement already satisfied: scikit-learn>=1.0.0 in c:\\users\\kirin\\miniconda3\\lib\\site-packages (from scikeras) (1.4.0)\n",
      "Requirement already satisfied: tensorflow-io-gcs-filesystem<0.32,>=0.23.1 in c:\\users\\kirin\\miniconda3\\lib\\site-packages (from scikeras) (0.31.0)\n",
      "Requirement already satisfied: numpy<2.0,>=1.19.5 in c:\\users\\kirin\\miniconda3\\lib\\site-packages (from scikit-learn>=1.0.0->scikeras) (1.26.3)\n",
      "Requirement already satisfied: scipy>=1.6.0 in c:\\users\\kirin\\miniconda3\\lib\\site-packages (from scikit-learn>=1.0.0->scikeras) (1.12.0)\n",
      "Requirement already satisfied: joblib>=1.2.0 in c:\\users\\kirin\\miniconda3\\lib\\site-packages (from scikit-learn>=1.0.0->scikeras) (1.3.2)\n",
      "Requirement already satisfied: threadpoolctl>=2.0.0 in c:\\users\\kirin\\miniconda3\\lib\\site-packages (from scikit-learn>=1.0.0->scikeras) (3.2.0)\n"
     ]
    }
   ],
   "source": [
    "!pip install scikeras keras"
   ]
  },
  {
   "cell_type": "code",
   "execution_count": 104,
   "id": "dfd374a5",
   "metadata": {},
   "outputs": [],
   "source": [
    "from keras.models import Sequential\n",
    "from keras.layers import Dense\n",
    "from sklearn.model_selection import train_test_split\n",
    "from keras.optimizers import Adam\n",
    "from sklearn.preprocessing import LabelEncoder\n",
    "from keras.utils import to_categorical\n",
    "from scikeras.wrappers import KerasClassifier, KerasRegressor\n",
    "from sklearn.metrics import classification_report, confusion_matrix, multilabel_confusion_matrix\n",
    "from sklearn.metrics import mean_squared_error, accuracy_score, precision_score, recall_score"
   ]
  },
  {
   "cell_type": "code",
   "execution_count": 114,
   "id": "ebf9798b-aa96-4398-a317-e1cbad5518ad",
   "metadata": {},
   "outputs": [],
   "source": [
    "def create_model(first_layer=128, activation_1='relu', second_layer=64, activation_2='relu', activation_out='softmax', learn_rate=0.001):\n",
    "    model = Sequential()\n",
    "    model.add(Dense(first_layer, input_shape=(100,), activation=activation_1))\n",
    "    model.add(Dense(second_layer, activation=activation_2))\n",
    "    model.add(Dense(num_classes, activation=activation_out))\n",
    "    model.compile(optimizer=Adam(learning_rate=learn_rate), loss=LOSS_TYPE, metrics=METRICS)\n",
    "    return model"
   ]
  },
  {
   "cell_type": "code",
   "execution_count": null,
   "id": "84336ead-25d3-401b-9e0e-311c35f29391",
   "metadata": {},
   "outputs": [
    {
     "name": "stdout",
     "output_type": "stream",
     "text": [
      "Epoch 1/20\n",
      "307/307 [==============================] - 1s 2ms/step - loss: 2.8862 - accuracy: 0.3688 - val_loss: 1.2868 - val_accuracy: 0.6640\n",
      "Epoch 2/20\n",
      "307/307 [==============================] - 0s 1ms/step - loss: 0.9486 - accuracy: 0.7323 - val_loss: 0.8754 - val_accuracy: 0.7355\n",
      "Epoch 3/20\n",
      "307/307 [==============================] - 0s 1ms/step - loss: 0.7039 - accuracy: 0.7883 - val_loss: 0.7669 - val_accuracy: 0.7674\n",
      "Epoch 4/20\n",
      "307/307 [==============================] - 0s 1ms/step - loss: 0.6015 - accuracy: 0.8159 - val_loss: 0.7291 - val_accuracy: 0.7819\n",
      "Epoch 5/20\n",
      "307/307 [==============================] - 0s 1ms/step - loss: 0.5366 - accuracy: 0.8336 - val_loss: 0.7162 - val_accuracy: 0.7832\n",
      "Epoch 6/20\n",
      "307/307 [==============================] - 0s 1ms/step - loss: 0.4910 - accuracy: 0.8445 - val_loss: 0.6987 - val_accuracy: 0.7852\n",
      "Epoch 7/20\n",
      "307/307 [==============================] - 0s 1ms/step - loss: 0.4529 - accuracy: 0.8565 - val_loss: 0.6917 - val_accuracy: 0.7909\n",
      "Epoch 8/20\n",
      "307/307 [==============================] - 0s 1ms/step - loss: 0.4217 - accuracy: 0.8688 - val_loss: 0.6843 - val_accuracy: 0.7901\n",
      "Epoch 9/20\n",
      "307/307 [==============================] - 0s 1ms/step - loss: 0.3934 - accuracy: 0.8784 - val_loss: 0.6868 - val_accuracy: 0.7901\n",
      "Epoch 10/20\n",
      "307/307 [==============================] - 0s 1ms/step - loss: 0.3699 - accuracy: 0.8845 - val_loss: 0.6962 - val_accuracy: 0.7877\n",
      "Epoch 11/20\n",
      "307/307 [==============================] - 0s 1ms/step - loss: 0.3471 - accuracy: 0.8924 - val_loss: 0.7067 - val_accuracy: 0.7885\n",
      "Epoch 12/20\n",
      "307/307 [==============================] - 0s 1ms/step - loss: 0.3282 - accuracy: 0.8977 - val_loss: 0.7031 - val_accuracy: 0.7960\n",
      "Epoch 13/20\n",
      "307/307 [==============================] - 0s 1ms/step - loss: 0.3112 - accuracy: 0.9056 - val_loss: 0.7186 - val_accuracy: 0.7901\n",
      "Epoch 14/20\n",
      "307/307 [==============================] - 0s 1ms/step - loss: 0.2931 - accuracy: 0.9080 - val_loss: 0.7352 - val_accuracy: 0.7893\n",
      "Epoch 15/20\n",
      "307/307 [==============================] - 0s 1ms/step - loss: 0.2765 - accuracy: 0.9140 - val_loss: 0.7359 - val_accuracy: 0.7907\n",
      "Epoch 16/20\n",
      "  1/307 [..............................] - ETA: 0s - loss: 0.2749 - accuracy: 0.9200"
     ]
    }
   ],
   "source": [
    "x = df.drop(columns=['Breed'])\n",
    "y = df['Breed']\n",
    "\n",
    "x_train, x_test, y_train, y_test = train_test_split(x, y, test_size = 0.25)\n",
    "\n",
    "# Encode the categorical target variable\n",
    "label_encoder = LabelEncoder()\n",
    "y_train_encoded = label_encoder.fit_transform(y_train)\n",
    "y_test_encoded = label_encoder.transform(y_test)\n",
    "\n",
    "# Convert the encoded labels to one-hot encoding\n",
    "y_train = to_categorical(y_train_encoded, num_classes=num_classes)\n",
    "y_test = to_categorical(y_test_encoded, num_classes=num_classes)\n",
    "\n",
    "optimal = create_model(first_layer=128, activation_1='relu', second_layer=64, activation_2='relu', activation_out='softmax', learn_rate=0.0005)\n",
    "optimal.fit(x_train, y_train, epochs=EPOCHS, batch_size=50, validation_data=(x_test, y_test))\n",
    "\n",
    "# Make predictions\n",
    "y_pred_opt = model.predict(x_test)\n",
    "\n",
    "# Convert continuous predictions to class labels\n",
    "y_pred_classes = np.argmax(y_pred_opt, axis=1)\n",
    "\n",
    "# Convert one-hot encoded y_test back to class labels\n",
    "y_test_classes = np.argmax(y_test, axis=1)\n",
    "\n",
    "# Inverse transform the predicted and ground truth class labels to original breed names\n",
    "y_pred_breed = label_encoder.inverse_transform(y_pred_classes)\n",
    "y_test_breed = label_encoder.inverse_transform(y_test_classes)\n",
    "\n",
    "# Evaluate the model\n",
    "loss, accuracy = model.evaluate(x_test, y_test)\n",
    "print(f'Test Accuracy: {accuracy}')\n",
    "\n",
    "multi_conf_matrix = multilabel_confusion_matrix(y_test_breed, y_pred_breed)\n",
    "print(\"Confusion Matrix for each label : \")\n",
    "print(multi_conf_matrix)\n",
    "\n",
    "print(\"Classification Report : \")\n",
    "print(classification_report(y_test_breed, y_pred_breed))\n",
    "\n",
    "conf_matrix = confusion_matrix(y_test_classes, y_pred_classes)"
   ]
  },
  {
   "cell_type": "code",
   "execution_count": null,
   "id": "5b0d78e7-22ed-4931-a653-c07ae01c6117",
   "metadata": {},
   "outputs": [],
   "source": []
  }
 ],
 "metadata": {
  "kernelspec": {
   "display_name": "Python 3 (ipykernel)",
   "language": "python",
   "name": "python3"
  },
  "language_info": {
   "codemirror_mode": {
    "name": "ipython",
    "version": 3
   },
   "file_extension": ".py",
   "mimetype": "text/x-python",
   "name": "python",
   "nbconvert_exporter": "python",
   "pygments_lexer": "ipython3",
   "version": "3.11.4"
  }
 },
 "nbformat": 4,
 "nbformat_minor": 5
}
