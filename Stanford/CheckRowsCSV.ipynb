{
 "cells": [
  {
   "cell_type": "code",
   "execution_count": 5,
   "id": "dced753f-8cbe-41fe-8bfa-34266c50b9e4",
   "metadata": {},
   "outputs": [
    {
     "name": "stdout",
     "output_type": "stream",
     "text": [
      "coated_retriever 152 != 151\n",
      "chihuahua 152 != 153\n",
      "shetland_sheepdog 156 != 157\n"
     ]
    }
   ],
   "source": [
    "import os, csv\n",
    "\n",
    "image_dir = 'images/Images'\n",
    "directory = 'theFeaturesByBreed'\n",
    "\n",
    "def count_rows(csv_file):\n",
    "    with open(csv_file, 'r') as file:\n",
    "        reader = csv.reader(file)\n",
    "        row_count = sum(1 for row in reader) - 1\n",
    "    return row_count\n",
    "\n",
    "for breed_folder in os.listdir(image_dir):\n",
    "#     if i > 10:  # Used for testing a subset\n",
    "#         break\n",
    "    breed_path = os.path.join(image_dir, breed_folder)\n",
    "    if os.path.isdir(breed_path):\n",
    "        breed = breed_folder.split('-')[-1].lower()  # Lowercase for uniformity\n",
    "        pic_count = len(os.listdir(breed_path))\n",
    "        row_count = count_rows(os.path.join(directory, breed + '.csv'))\n",
    "        if pic_count != row_count:\n",
    "            print(breed, row_count, '!=', pic_count)"
   ]
  },
  {
   "cell_type": "code",
   "execution_count": null,
   "id": "4743bfb5-7232-42df-90ed-92f3036bb127",
   "metadata": {},
   "outputs": [],
   "source": []
  }
 ],
 "metadata": {
  "kernelspec": {
   "display_name": "Python 3 (ipykernel)",
   "language": "python",
   "name": "python3"
  },
  "language_info": {
   "codemirror_mode": {
    "name": "ipython",
    "version": 3
   },
   "file_extension": ".py",
   "mimetype": "text/x-python",
   "name": "python",
   "nbconvert_exporter": "python",
   "pygments_lexer": "ipython3",
   "version": "3.11.7"
  }
 },
 "nbformat": 4,
 "nbformat_minor": 5
}
