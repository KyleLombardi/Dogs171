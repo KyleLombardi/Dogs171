{
 "cells": [
  {
   "cell_type": "markdown",
   "id": "993d1f23-8a69-4f13-856f-37a2b2103bbb",
   "metadata": {},
   "source": [
    "# Feature Reduction"
   ]
  },
  {
   "cell_type": "code",
   "execution_count": 1,
   "id": "19ea2491-73bb-42f4-b537-ae8a1c51447b",
   "metadata": {},
   "outputs": [],
   "source": [
    "import pandas as pd\n",
    "import numpy as np\n",
    "import os\n",
    "\n",
    "from sklearn.decomposition import PCA\n",
    "from sklearn.preprocessing import StandardScaler"
   ]
  },
  {
   "cell_type": "code",
   "execution_count": 4,
   "id": "e4a999c5-2a20-4353-b9bc-1f16da312f7b",
   "metadata": {},
   "outputs": [
    {
     "data": {
      "text/html": [
       "<div>\n",
       "<style scoped>\n",
       "    .dataframe tbody tr th:only-of-type {\n",
       "        vertical-align: middle;\n",
       "    }\n",
       "\n",
       "    .dataframe tbody tr th {\n",
       "        vertical-align: top;\n",
       "    }\n",
       "\n",
       "    .dataframe thead th {\n",
       "        text-align: right;\n",
       "    }\n",
       "</style>\n",
       "<table border=\"1\" class=\"dataframe\">\n",
       "  <thead>\n",
       "    <tr style=\"text-align: right;\">\n",
       "      <th></th>\n",
       "      <th>Breed</th>\n",
       "      <th>Features</th>\n",
       "    </tr>\n",
       "  </thead>\n",
       "  <tbody>\n",
       "    <tr>\n",
       "      <th>0</th>\n",
       "      <td>brittany_spaniel</td>\n",
       "      <td>[-1.88358617e+00  9.88821387e-01 -2.32127357e+...</td>\n",
       "    </tr>\n",
       "    <tr>\n",
       "      <th>1</th>\n",
       "      <td>brittany_spaniel</td>\n",
       "      <td>[-2.58102751e+00 -3.11713427e-01 -2.21587586e+...</td>\n",
       "    </tr>\n",
       "    <tr>\n",
       "      <th>2</th>\n",
       "      <td>brittany_spaniel</td>\n",
       "      <td>[-1.73865843e+00  8.22232246e-01 -3.19162250e+...</td>\n",
       "    </tr>\n",
       "    <tr>\n",
       "      <th>3</th>\n",
       "      <td>brittany_spaniel</td>\n",
       "      <td>[-5.35894823e+00 -5.29233932e-01 -1.35641754e+...</td>\n",
       "    </tr>\n",
       "    <tr>\n",
       "      <th>4</th>\n",
       "      <td>brittany_spaniel</td>\n",
       "      <td>[-1.19886541e+00  1.30478740e+00 -3.39355111e+...</td>\n",
       "    </tr>\n",
       "  </tbody>\n",
       "</table>\n",
       "</div>"
      ],
      "text/plain": [
       "              Breed                                           Features\n",
       "0  brittany_spaniel  [-1.88358617e+00  9.88821387e-01 -2.32127357e+...\n",
       "1  brittany_spaniel  [-2.58102751e+00 -3.11713427e-01 -2.21587586e+...\n",
       "2  brittany_spaniel  [-1.73865843e+00  8.22232246e-01 -3.19162250e+...\n",
       "3  brittany_spaniel  [-5.35894823e+00 -5.29233932e-01 -1.35641754e+...\n",
       "4  brittany_spaniel  [-1.19886541e+00  1.30478740e+00 -3.39355111e+..."
      ]
     },
     "execution_count": 4,
     "metadata": {},
     "output_type": "execute_result"
    }
   ],
   "source": [
    "directory = 'theFeaturesByBreed'\n",
    "\n",
    "# Initialize an empty list to store DataFrames\n",
    "dfs = []\n",
    "\n",
    "# Iterate over each file in the directory\n",
    "for filename in os.listdir(directory):\n",
    "    if filename.endswith(\".csv\"):\n",
    "        # Read the CSV file into a DataFrame\n",
    "        filepath = os.path.join(directory, filename)\n",
    "        df = pd.read_csv(filepath)\n",
    "        # Append the DataFrame to the list\n",
    "        dfs.append(df)\n",
    "\n",
    "# Concatenate all DataFrames into one\n",
    "df = pd.concat(dfs, ignore_index=True)"
   ]
  },
  {
   "cell_type": "code",
   "execution_count": 13,
   "id": "53716786-eae5-4752-bffc-4138ce6ecc88",
   "metadata": {},
   "outputs": [],
   "source": [
    "# Convert all the features to numpy array\n",
    "df[\"Features\"] = df[\"Features\"].map(lambda features: np.array(features[1:-1].split(), dtype=np.double))"
   ]
  },
  {
   "cell_type": "code",
   "execution_count": 14,
   "id": "e1c19914-34dc-46c9-89d3-899c3ff45984",
   "metadata": {},
   "outputs": [
    {
     "data": {
      "text/html": [
       "<div>\n",
       "<style scoped>\n",
       "    .dataframe tbody tr th:only-of-type {\n",
       "        vertical-align: middle;\n",
       "    }\n",
       "\n",
       "    .dataframe tbody tr th {\n",
       "        vertical-align: top;\n",
       "    }\n",
       "\n",
       "    .dataframe thead th {\n",
       "        text-align: right;\n",
       "    }\n",
       "</style>\n",
       "<table border=\"1\" class=\"dataframe\">\n",
       "  <thead>\n",
       "    <tr style=\"text-align: right;\">\n",
       "      <th></th>\n",
       "      <th>Breed</th>\n",
       "      <th>Features</th>\n",
       "    </tr>\n",
       "  </thead>\n",
       "  <tbody>\n",
       "    <tr>\n",
       "      <th>0</th>\n",
       "      <td>brittany_spaniel</td>\n",
       "      <td>[-1.88358617, 0.988821387, -2.32127357, -3.849...</td>\n",
       "    </tr>\n",
       "    <tr>\n",
       "      <th>1</th>\n",
       "      <td>brittany_spaniel</td>\n",
       "      <td>[-2.58102751, -0.311713427, -2.21587586, -2.93...</td>\n",
       "    </tr>\n",
       "    <tr>\n",
       "      <th>2</th>\n",
       "      <td>brittany_spaniel</td>\n",
       "      <td>[-1.73865843, 0.822232246, -3.1916225, -3.8995...</td>\n",
       "    </tr>\n",
       "    <tr>\n",
       "      <th>3</th>\n",
       "      <td>brittany_spaniel</td>\n",
       "      <td>[-5.35894823, -0.529233932, -1.35641754, -2.33...</td>\n",
       "    </tr>\n",
       "    <tr>\n",
       "      <th>4</th>\n",
       "      <td>brittany_spaniel</td>\n",
       "      <td>[-1.19886541, 1.3047874, -3.39355111, -3.00793...</td>\n",
       "    </tr>\n",
       "  </tbody>\n",
       "</table>\n",
       "</div>"
      ],
      "text/plain": [
       "              Breed                                           Features\n",
       "0  brittany_spaniel  [-1.88358617, 0.988821387, -2.32127357, -3.849...\n",
       "1  brittany_spaniel  [-2.58102751, -0.311713427, -2.21587586, -2.93...\n",
       "2  brittany_spaniel  [-1.73865843, 0.822232246, -3.1916225, -3.8995...\n",
       "3  brittany_spaniel  [-5.35894823, -0.529233932, -1.35641754, -2.33...\n",
       "4  brittany_spaniel  [-1.19886541, 1.3047874, -3.39355111, -3.00793..."
      ]
     },
     "execution_count": 14,
     "metadata": {},
     "output_type": "execute_result"
    }
   ],
   "source": [
    "# Display the final DataFrame\n",
    "df.head()"
   ]
  },
  {
   "cell_type": "code",
   "execution_count": 15,
   "id": "f2874d31-9366-4d70-9528-6ca47df07299",
   "metadata": {},
   "outputs": [],
   "source": [
    "# Step 1: Standardize the data\n",
    "X = np.vstack(df[\"Features\"])\n",
    "scaler = StandardScaler()\n",
    "X_scaled = scaler.fit_transform(X)"
   ]
  },
  {
   "cell_type": "code",
   "execution_count": 16,
   "id": "d20633d4-9382-430f-950e-10102e8fa93d",
   "metadata": {},
   "outputs": [],
   "source": [
    "# Step 2: Apply PCA\n",
    "n_components = 100 # Number of principal components to retain\n",
    "pca = PCA(n_components=n_components)\n",
    "X_pca = pca.fit_transform(X_scaled)"
   ]
  },
  {
   "cell_type": "code",
   "execution_count": 17,
   "id": "74bb5504-cf62-4436-81ac-b23f73568415",
   "metadata": {},
   "outputs": [],
   "source": [
    "df[\"Features\"] = pd.Series(X_pca.tolist())"
   ]
  },
  {
   "cell_type": "code",
   "execution_count": 18,
   "id": "de739f19-6483-4a06-8139-4475446f3872",
   "metadata": {},
   "outputs": [
    {
     "data": {
      "text/html": [
       "<div>\n",
       "<style scoped>\n",
       "    .dataframe tbody tr th:only-of-type {\n",
       "        vertical-align: middle;\n",
       "    }\n",
       "\n",
       "    .dataframe tbody tr th {\n",
       "        vertical-align: top;\n",
       "    }\n",
       "\n",
       "    .dataframe thead th {\n",
       "        text-align: right;\n",
       "    }\n",
       "</style>\n",
       "<table border=\"1\" class=\"dataframe\">\n",
       "  <thead>\n",
       "    <tr style=\"text-align: right;\">\n",
       "      <th></th>\n",
       "      <th>Breed</th>\n",
       "      <th>Features</th>\n",
       "    </tr>\n",
       "  </thead>\n",
       "  <tbody>\n",
       "    <tr>\n",
       "      <th>0</th>\n",
       "      <td>brittany_spaniel</td>\n",
       "      <td>[-5.2798704059921375, -2.2084259860538777, 5.2...</td>\n",
       "    </tr>\n",
       "    <tr>\n",
       "      <th>1</th>\n",
       "      <td>brittany_spaniel</td>\n",
       "      <td>[0.5240202369218108, -4.321692280259293, -5.80...</td>\n",
       "    </tr>\n",
       "    <tr>\n",
       "      <th>2</th>\n",
       "      <td>brittany_spaniel</td>\n",
       "      <td>[4.484348842924805, -11.409184465121882, -2.06...</td>\n",
       "    </tr>\n",
       "    <tr>\n",
       "      <th>3</th>\n",
       "      <td>brittany_spaniel</td>\n",
       "      <td>[8.630310757252287, -9.028895885313128, -4.177...</td>\n",
       "    </tr>\n",
       "    <tr>\n",
       "      <th>4</th>\n",
       "      <td>brittany_spaniel</td>\n",
       "      <td>[-6.459162673194447, -5.1783442764556655, 3.18...</td>\n",
       "    </tr>\n",
       "  </tbody>\n",
       "</table>\n",
       "</div>"
      ],
      "text/plain": [
       "              Breed                                           Features\n",
       "0  brittany_spaniel  [-5.2798704059921375, -2.2084259860538777, 5.2...\n",
       "1  brittany_spaniel  [0.5240202369218108, -4.321692280259293, -5.80...\n",
       "2  brittany_spaniel  [4.484348842924805, -11.409184465121882, -2.06...\n",
       "3  brittany_spaniel  [8.630310757252287, -9.028895885313128, -4.177...\n",
       "4  brittany_spaniel  [-6.459162673194447, -5.1783442764556655, 3.18..."
      ]
     },
     "execution_count": 18,
     "metadata": {},
     "output_type": "execute_result"
    }
   ],
   "source": [
    "df.head()"
   ]
  },
  {
   "cell_type": "code",
   "execution_count": 19,
   "id": "dcdc6265-3d00-422f-b776-9b83966ff327",
   "metadata": {},
   "outputs": [],
   "source": [
    "df.to_csv(\"features.csv\", index=False)"
   ]
  },
  {
   "cell_type": "code",
   "execution_count": null,
   "id": "93bb3fa6-e41b-49ec-a851-84caed85eda4",
   "metadata": {},
   "outputs": [],
   "source": []
  }
 ],
 "metadata": {
  "kernelspec": {
   "display_name": "Python 3 (ipykernel)",
   "language": "python",
   "name": "python3"
  },
  "language_info": {
   "codemirror_mode": {
    "name": "ipython",
    "version": 3
   },
   "file_extension": ".py",
   "mimetype": "text/x-python",
   "name": "python",
   "nbconvert_exporter": "python",
   "pygments_lexer": "ipython3",
   "version": "3.11.7"
  }
 },
 "nbformat": 4,
 "nbformat_minor": 5
}
