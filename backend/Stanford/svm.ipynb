{
 "cells": [
  {
   "cell_type": "code",
   "execution_count": null,
   "id": "b1376d7d",
   "metadata": {},
   "outputs": [],
   "source": [
    "import pandas as pd\n",
    "from sklearn.model_selection import train_test_split, GridSearchCV\n",
    "from sklearn import svm\n",
    "from sklearn import metrics\n",
    "from sklearn import preprocessing\n",
    "from sklearn.svm import SVC\n",
    "from sklearn.metrics import classification_report\n",
    "from sklearn.preprocessing import StandardScaler\n",
    "from sklearn.metrics import confusion_matrix"
   ]
  },
  {
   "cell_type": "code",
   "execution_count": 3,
   "id": "d79b2b5a",
   "metadata": {},
   "outputs": [
    {
     "ename": "KeyboardInterrupt",
     "evalue": "",
     "output_type": "error",
     "traceback": [
      "\u001b[1;31m---------------------------------------------------------------------------\u001b[0m",
      "\u001b[1;31mKeyboardInterrupt\u001b[0m                         Traceback (most recent call last)",
      "Cell \u001b[1;32mIn[3], line 16\u001b[0m\n\u001b[0;32m     12\u001b[0m Z_svm_test \u001b[38;5;241m=\u001b[39m scaler\u001b[38;5;241m.\u001b[39mtransform(X_svm_test)\n\u001b[0;32m     15\u001b[0m clf\u001b[38;5;241m.\u001b[39mfit(Z_svm_train, y_svm_train)\n\u001b[1;32m---> 16\u001b[0m y_pred \u001b[38;5;241m=\u001b[39m clf\u001b[38;5;241m.\u001b[39mpredict(Z_svm_test)\n\u001b[0;32m     17\u001b[0m \u001b[38;5;28mprint\u001b[39m(classification_report(y_svm_test, y_pred))\n",
      "File \u001b[1;32m~\\Documents\\Anaconda\\Lib\\site-packages\\sklearn\\svm\\_base.py:820\u001b[0m, in \u001b[0;36mBaseSVC.predict\u001b[1;34m(self, X)\u001b[0m\n\u001b[0;32m    818\u001b[0m     y \u001b[38;5;241m=\u001b[39m np\u001b[38;5;241m.\u001b[39margmax(\u001b[38;5;28mself\u001b[39m\u001b[38;5;241m.\u001b[39mdecision_function(X), axis\u001b[38;5;241m=\u001b[39m\u001b[38;5;241m1\u001b[39m)\n\u001b[0;32m    819\u001b[0m \u001b[38;5;28;01melse\u001b[39;00m:\n\u001b[1;32m--> 820\u001b[0m     y \u001b[38;5;241m=\u001b[39m \u001b[38;5;28msuper\u001b[39m()\u001b[38;5;241m.\u001b[39mpredict(X)\n\u001b[0;32m    821\u001b[0m \u001b[38;5;28;01mreturn\u001b[39;00m \u001b[38;5;28mself\u001b[39m\u001b[38;5;241m.\u001b[39mclasses_\u001b[38;5;241m.\u001b[39mtake(np\u001b[38;5;241m.\u001b[39masarray(y, dtype\u001b[38;5;241m=\u001b[39mnp\u001b[38;5;241m.\u001b[39mintp))\n",
      "File \u001b[1;32m~\\Documents\\Anaconda\\Lib\\site-packages\\sklearn\\svm\\_base.py:435\u001b[0m, in \u001b[0;36mBaseLibSVM.predict\u001b[1;34m(self, X)\u001b[0m\n\u001b[0;32m    433\u001b[0m X \u001b[38;5;241m=\u001b[39m \u001b[38;5;28mself\u001b[39m\u001b[38;5;241m.\u001b[39m_validate_for_predict(X)\n\u001b[0;32m    434\u001b[0m predict \u001b[38;5;241m=\u001b[39m \u001b[38;5;28mself\u001b[39m\u001b[38;5;241m.\u001b[39m_sparse_predict \u001b[38;5;28;01mif\u001b[39;00m \u001b[38;5;28mself\u001b[39m\u001b[38;5;241m.\u001b[39m_sparse \u001b[38;5;28;01melse\u001b[39;00m \u001b[38;5;28mself\u001b[39m\u001b[38;5;241m.\u001b[39m_dense_predict\n\u001b[1;32m--> 435\u001b[0m \u001b[38;5;28;01mreturn\u001b[39;00m predict(X)\n",
      "File \u001b[1;32m~\\Documents\\Anaconda\\Lib\\site-packages\\sklearn\\svm\\_base.py:454\u001b[0m, in \u001b[0;36mBaseLibSVM._dense_predict\u001b[1;34m(self, X)\u001b[0m\n\u001b[0;32m    446\u001b[0m         \u001b[38;5;28;01mraise\u001b[39;00m \u001b[38;5;167;01mValueError\u001b[39;00m(\n\u001b[0;32m    447\u001b[0m             \u001b[38;5;124m\"\u001b[39m\u001b[38;5;124mX.shape[1] = \u001b[39m\u001b[38;5;132;01m%d\u001b[39;00m\u001b[38;5;124m should be equal to \u001b[39m\u001b[38;5;132;01m%d\u001b[39;00m\u001b[38;5;124m, \u001b[39m\u001b[38;5;124m\"\u001b[39m\n\u001b[0;32m    448\u001b[0m             \u001b[38;5;124m\"\u001b[39m\u001b[38;5;124mthe number of samples at training time\u001b[39m\u001b[38;5;124m\"\u001b[39m\n\u001b[0;32m    449\u001b[0m             \u001b[38;5;241m%\u001b[39m (X\u001b[38;5;241m.\u001b[39mshape[\u001b[38;5;241m1\u001b[39m], \u001b[38;5;28mself\u001b[39m\u001b[38;5;241m.\u001b[39mshape_fit_[\u001b[38;5;241m0\u001b[39m])\n\u001b[0;32m    450\u001b[0m         )\n\u001b[0;32m    452\u001b[0m svm_type \u001b[38;5;241m=\u001b[39m LIBSVM_IMPL\u001b[38;5;241m.\u001b[39mindex(\u001b[38;5;28mself\u001b[39m\u001b[38;5;241m.\u001b[39m_impl)\n\u001b[1;32m--> 454\u001b[0m \u001b[38;5;28;01mreturn\u001b[39;00m libsvm\u001b[38;5;241m.\u001b[39mpredict(\n\u001b[0;32m    455\u001b[0m     X,\n\u001b[0;32m    456\u001b[0m     \u001b[38;5;28mself\u001b[39m\u001b[38;5;241m.\u001b[39msupport_,\n\u001b[0;32m    457\u001b[0m     \u001b[38;5;28mself\u001b[39m\u001b[38;5;241m.\u001b[39msupport_vectors_,\n\u001b[0;32m    458\u001b[0m     \u001b[38;5;28mself\u001b[39m\u001b[38;5;241m.\u001b[39m_n_support,\n\u001b[0;32m    459\u001b[0m     \u001b[38;5;28mself\u001b[39m\u001b[38;5;241m.\u001b[39m_dual_coef_,\n\u001b[0;32m    460\u001b[0m     \u001b[38;5;28mself\u001b[39m\u001b[38;5;241m.\u001b[39m_intercept_,\n\u001b[0;32m    461\u001b[0m     \u001b[38;5;28mself\u001b[39m\u001b[38;5;241m.\u001b[39m_probA,\n\u001b[0;32m    462\u001b[0m     \u001b[38;5;28mself\u001b[39m\u001b[38;5;241m.\u001b[39m_probB,\n\u001b[0;32m    463\u001b[0m     svm_type\u001b[38;5;241m=\u001b[39msvm_type,\n\u001b[0;32m    464\u001b[0m     kernel\u001b[38;5;241m=\u001b[39mkernel,\n\u001b[0;32m    465\u001b[0m     degree\u001b[38;5;241m=\u001b[39m\u001b[38;5;28mself\u001b[39m\u001b[38;5;241m.\u001b[39mdegree,\n\u001b[0;32m    466\u001b[0m     coef0\u001b[38;5;241m=\u001b[39m\u001b[38;5;28mself\u001b[39m\u001b[38;5;241m.\u001b[39mcoef0,\n\u001b[0;32m    467\u001b[0m     gamma\u001b[38;5;241m=\u001b[39m\u001b[38;5;28mself\u001b[39m\u001b[38;5;241m.\u001b[39m_gamma,\n\u001b[0;32m    468\u001b[0m     cache_size\u001b[38;5;241m=\u001b[39m\u001b[38;5;28mself\u001b[39m\u001b[38;5;241m.\u001b[39mcache_size,\n\u001b[0;32m    469\u001b[0m )\n",
      "\u001b[1;31mKeyboardInterrupt\u001b[0m: "
     ]
    }
   ],
   "source": [
    "df = pd.read_csv('features.csv')\n",
    "# display(df)\n",
    "svm_train, svm_test = train_test_split(df, test_size=0.2)\n",
    "X_svm_train, y_svm_train = svm_train.drop(columns=['Breed']), svm_train['Breed']\n",
    "X_svm_test, y_svm_test = svm_test.drop(columns=['Breed']), svm_test['Breed']\n",
    "\n",
    "clf = svm.SVC(kernel='rbf') # Linear Kernel\n",
    "scaler = preprocessing.StandardScaler()\n",
    "scaler.fit(X_svm_train)\n",
    "\n",
    "Z_svm_train = scaler.transform(X_svm_train)\n",
    "Z_svm_test = scaler.transform(X_svm_test)\n",
    "\n",
    "\n",
    "clf.fit(Z_svm_train, y_svm_train)\n",
    "y_pred = clf.predict(Z_svm_test)\n",
    "print(classification_report(y_svm_test, y_pred))"
   ]
  },
  {
   "cell_type": "code",
   "execution_count": null,
   "id": "899534ae",
   "metadata": {},
   "outputs": [],
   "source": [
    "# # Define parameter grid for grid search\n",
    "# param_grid = {\n",
    "#     'C': [0.1, 1, 10, 100],  # Regularization parameter\n",
    "#     'gamma': [1, 0.1, 0.01, 0.001],  # Kernel coefficient\n",
    "#     'kernel': ['rbf', 'linear']  # Kernel type\n",
    "# }"
   ]
  },
  {
   "cell_type": "code",
   "execution_count": null,
   "id": "f384b5e6",
   "metadata": {},
   "outputs": [],
   "source": [
    "# # Load data\n",
    "# df = pd.read_csv('features.csv')\n",
    "\n",
    "# # Split data into train and test sets\n",
    "# svm_train, svm_test = train_test_split(df, test_size=0.2)\n",
    "# X_svm_train, y_svm_train = svm_train.drop(columns=['Breed']), svm_train['Breed']\n",
    "# X_svm_test, y_svm_test = svm_test.drop(columns=['Breed']), svm_test['Breed']\n",
    "\n",
    "# # Scale features\n",
    "# scaler = StandardScaler()\n",
    "# scaler.fit(X_svm_train)\n",
    "# Z_svm_train = scaler.transform(X_svm_train)\n",
    "# Z_svm_test = scaler.transform(X_svm_test)\n",
    "\n",
    "# # Define SVM model\n",
    "# svm_model = SVC()\n",
    "\n",
    "# # Perform grid search\n",
    "# grid_search = GridSearchCV(estimator=svm_model, param_grid=param_grid, cv=5, scoring='accuracy')\n",
    "# grid_search.fit(Z_svm_train, y_svm_train)\n",
    "\n",
    "# # Get best parameters and best score\n",
    "# best_params = grid_search.best_params_\n",
    "# best_score = grid_search.best_score_\n",
    "# print(\"Best Parameters:\", best_params)\n",
    "# print(\"Best Score:\", best_score)\n",
    "\n",
    "# # Evaluate on test set with best parameters\n",
    "# best_model = grid_search.best_estimator_\n",
    "# y_pred = best_model.predict(Z_svm_test)\n",
    "# print(\"Classification Report:\")\n",
    "# print(classification_report(y_svm_test, y_pred))\n"
   ]
  },
  {
   "cell_type": "code",
   "execution_count": null,
   "id": "011baf05",
   "metadata": {},
   "outputs": [],
   "source": [
    "# # Get classification report\n",
    "# multiclass_report = classification_report(y_svm_test, y_pred)\n",
    "# print(\"Multiclass Classification Report:\")\n",
    "# print(multiclass_report)\n",
    "\n",
    "# # Get confusion matrix\n",
    "# conf_matrix = confusion_matrix(y_svm_test, y_pred)\n",
    "\n",
    "# # Calculate percentage of correct predictions for each breed\n",
    "# breed_counts = df['Breed'].value_counts()\n",
    "# breed_accuracy = {}\n",
    "# for i in range(len(breed_counts)):\n",
    "#     breed = breed_counts.index[i]\n",
    "#     total_count = breed_counts[i]\n",
    "#     correct_count = conf_matrix[i][i]\n",
    "#     accuracy = correct_count / total_count * 100\n",
    "#     breed_accuracy[breed] = accuracy\n",
    "\n",
    "# # Sort breeds by accuracy\n",
    "# sorted_breeds = sorted(breed_accuracy.items(), key=lambda x: x[1], reverse=True)\n",
    "\n",
    "# print(\"\\nSummary of Predicted Breeds Accuracy:\")\n",
    "# for breed, accuracy in sorted_breeds:\n",
    "#     print(f\"{breed}: {accuracy:.2f}%\")\n",
    "\n",
    "# # Get the worst predicted breed\n",
    "# worst_breed = sorted_breeds[-1][0]\n",
    "# worst_accuracy = sorted_breeds[-1][1]\n",
    "# print(\"\\nThe worst predicted breed is:\", worst_breed, \"with accuracy:\", worst_accuracy)\n"
   ]
  }
 ],
 "metadata": {
  "kernelspec": {
   "display_name": "Python 3 (ipykernel)",
   "language": "python",
   "name": "python3"
  },
  "language_info": {
   "codemirror_mode": {
    "name": "ipython",
    "version": 3
   },
   "file_extension": ".py",
   "mimetype": "text/x-python",
   "name": "python",
   "nbconvert_exporter": "python",
   "pygments_lexer": "ipython3",
   "version": "3.11.5"
  }
 },
 "nbformat": 4,
 "nbformat_minor": 5
}
