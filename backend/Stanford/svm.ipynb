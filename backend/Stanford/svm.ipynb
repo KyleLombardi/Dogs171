{
 "cells": [
  {
   "cell_type": "code",
   "execution_count": null,
   "id": "b1376d7d",
   "metadata": {},
   "outputs": [],
   "source": [
    "import pandas as pd\n",
    "from sklearn.model_selection import train_test_split\n",
    "from sklearn import svm\n",
    "from sklearn import metrics\n",
    "from sklearn import preprocessing\n",
    "from sklearn.metrics import classification_report\n",
    "\n",
    "df = pd.read_csv('features.csv')\n",
    "# display(df)\n",
    "svm_train, svm_test = train_test_split(df, test_size=0.2)\n",
    "X_svm_train, y_svm_train = svm_train.drop(columns=['Breed']), svm_train['Breed']\n",
    "X_svm_test, y_svm_test = svm_test.drop(columns=['Breed']), svm_test['Breed']\n",
    "\n",
    "clf = svm.SVC(kernel='rbf') # Linear Kernel\n",
    "scaler = preprocessing.StandardScaler()\n",
    "scaler.fit(X_svm_train)\n",
    "\n",
    "Z_svm_train = scaler.transform(X_svm_train)\n",
    "Z_svm_test = scaler.transform(X_svm_test)\n",
    "\n",
    "\n",
    "clf.fit(Z_svm_train, y_svm_train)\n",
    "y_pred = clf.predict(Z_svm_test)\n",
    "print(classification_report(y_svm_test, y_pred))"
   ]
  },
  {
   "cell_type": "code",
   "execution_count": null,
   "id": "d79b2b5a",
   "metadata": {},
   "outputs": [],
   "source": []
  }
 ],
 "metadata": {
  "kernelspec": {
   "display_name": "Python 3 (ipykernel)",
   "language": "python",
   "name": "python3"
  },
  "language_info": {
   "codemirror_mode": {
    "name": "ipython",
    "version": 3
   },
   "file_extension": ".py",
   "mimetype": "text/x-python",
   "name": "python",
   "nbconvert_exporter": "python",
   "pygments_lexer": "ipython3",
   "version": "3.11.5"
  }
 },
 "nbformat": 4,
 "nbformat_minor": 5
}
